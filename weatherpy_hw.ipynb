{
 "cells": [
  {
   "cell_type": "markdown",
   "metadata": {},
   "source": [
    "## WeatherPy"
   ]
  },
  {
   "cell_type": "markdown",
   "metadata": {},
   "source": [
    "<b> Analysis Process </b>\n",
    "* The closer you get to the equator the warmer it gets regardless of Earth's tilt. Earth's tilt will change the weather for either [> 0 degrees latitude >] positions on Earth, effectively creating seasons.\n",
    "* The equator seems to have less wind speed than other locations on Earth but the difference is minimal.\n",
    "* Cloudiness and humidity ranges in cities aren't affected by their proximity to the earth's equator. I would assume that those values are affected by their closeness to bodies of water, this is only a hypothesis and needs to be explored further."
   ]
  },
  {
   "cell_type": "code",
   "execution_count": 8,
   "metadata": {},
   "outputs": [],
   "source": [
    "# Dependencies\n",
    "import csv\n",
    "import numpy as np\n",
    "import pandas as pd\n",
    "import matplotlib.pyplot as plt\n",
    "import openweathermapy.core as ow\n",
    "from datetime import datetime\n",
    "from citipy import citipy\n",
    "from progressbar import ProgressBar"
   ]
  },
  {
   "cell_type": "code",
   "execution_count": 9,
   "metadata": {},
   "outputs": [],
   "source": [
    "# latitude range is (-90,90) longitude range is (-180,180)\n",
    "lat_coord = np.random.uniform(-90,91,700)\n",
    "lng_coord = np.random.uniform(-180,181,700)"
   ]
  },
  {
   "cell_type": "markdown",
   "metadata": {},
   "source": [
    "## Generate Data Frame For The Cities"
   ]
  },
  {
   "cell_type": "code",
   "execution_count": 10,
   "metadata": {},
   "outputs": [
    {
     "name": "stderr",
     "output_type": "stream",
     "text": [
      "/Users/roberto/anaconda3/lib/python3.6/site-packages/ipykernel_launcher.py:9: FutureWarning: set_value is deprecated and will be removed in a future release. Please use .at[] or .iat[] accessors instead\n",
      "  if __name__ == '__main__':\n",
      "/Users/roberto/anaconda3/lib/python3.6/site-packages/ipykernel_launcher.py:10: FutureWarning: set_value is deprecated and will be removed in a future release. Please use .at[] or .iat[] accessors instead\n",
      "  # Remove the CWD from sys.path while we load stuff.\n",
      "/Users/roberto/anaconda3/lib/python3.6/site-packages/ipykernel_launcher.py:11: FutureWarning: set_value is deprecated and will be removed in a future release. Please use .at[] or .iat[] accessors instead\n",
      "  # This is added back by InteractiveShellApp.init_path()\n",
      "/Users/roberto/anaconda3/lib/python3.6/site-packages/ipykernel_launcher.py:12: FutureWarning: set_value is deprecated and will be removed in a future release. Please use .at[] or .iat[] accessors instead\n",
      "  if sys.path[0] == '':\n",
      "100% |########################################################################|\n"
     ]
    }
   ],
   "source": [
    "weather_df = pd.DataFrame()\n",
    "weather_df['city_name'] = ''\n",
    "weather_df['country_code'] = ''\n",
    "weather_df['latitude'] = ''\n",
    "weather_df['longitude'] = ''\n",
    "\n",
    "bar = ProgressBar()\n",
    "for i in bar(range(len(lat_coord))):\n",
    "    weather_df.set_value(i,'city_name',citipy.nearest_city(lat_coord[i], lng_coord[i]).city_name)\n",
    "    weather_df.set_value(i,'country_code',citipy.nearest_city(lat_coord[i], lng_coord[i]).country_code)\n",
    "    weather_df.set_value(i,'latitude',round(lat_coord[i],4))\n",
    "    weather_df.set_value(i,'longitude',round(lng_coord[i],4))"
   ]
  },
  {
   "cell_type": "code",
   "execution_count": 11,
   "metadata": {},
   "outputs": [
    {
     "data": {
      "text/html": [
       "<div>\n",
       "<style scoped>\n",
       "    .dataframe tbody tr th:only-of-type {\n",
       "        vertical-align: middle;\n",
       "    }\n",
       "\n",
       "    .dataframe tbody tr th {\n",
       "        vertical-align: top;\n",
       "    }\n",
       "\n",
       "    .dataframe thead th {\n",
       "        text-align: right;\n",
       "    }\n",
       "</style>\n",
       "<table border=\"1\" class=\"dataframe\">\n",
       "  <thead>\n",
       "    <tr style=\"text-align: right;\">\n",
       "      <th></th>\n",
       "      <th>city_name</th>\n",
       "      <th>country_code</th>\n",
       "      <th>latitude</th>\n",
       "      <th>longitude</th>\n",
       "    </tr>\n",
       "  </thead>\n",
       "  <tbody>\n",
       "    <tr>\n",
       "      <th>0</th>\n",
       "      <td>arraial do cabo</td>\n",
       "      <td>br</td>\n",
       "      <td>-30.5416</td>\n",
       "      <td>-37.5936</td>\n",
       "    </tr>\n",
       "    <tr>\n",
       "      <th>1</th>\n",
       "      <td>punta arenas</td>\n",
       "      <td>cl</td>\n",
       "      <td>-68.8155</td>\n",
       "      <td>-115.458</td>\n",
       "    </tr>\n",
       "    <tr>\n",
       "      <th>2</th>\n",
       "      <td>albany</td>\n",
       "      <td>au</td>\n",
       "      <td>-54.6763</td>\n",
       "      <td>125.621</td>\n",
       "    </tr>\n",
       "    <tr>\n",
       "      <th>3</th>\n",
       "      <td>verkhnyaya inta</td>\n",
       "      <td>ru</td>\n",
       "      <td>65.6734</td>\n",
       "      <td>61.0079</td>\n",
       "    </tr>\n",
       "    <tr>\n",
       "      <th>4</th>\n",
       "      <td>aras</td>\n",
       "      <td>no</td>\n",
       "      <td>61.2123</td>\n",
       "      <td>2.1535</td>\n",
       "    </tr>\n",
       "  </tbody>\n",
       "</table>\n",
       "</div>"
      ],
      "text/plain": [
       "         city_name country_code latitude longitude\n",
       "0  arraial do cabo           br -30.5416  -37.5936\n",
       "1     punta arenas           cl -68.8155  -115.458\n",
       "2           albany           au -54.6763   125.621\n",
       "3  verkhnyaya inta           ru  65.6734   61.0079\n",
       "4             aras           no  61.2123    2.1535"
      ]
     },
     "execution_count": 11,
     "metadata": {},
     "output_type": "execute_result"
    }
   ],
   "source": [
    "weather_df.head()"
   ]
  },
  {
   "cell_type": "markdown",
   "metadata": {},
   "source": [
    "## Perform Weather Calls [API] "
   ]
  },
  {
   "cell_type": "code",
   "execution_count": 12,
   "metadata": {},
   "outputs": [],
   "source": [
    "# Create settings dictionary with information we're interested in\n",
    "api_key = \"7000bf4dfa565802d1a0bc7afae50bec\"\n",
    "settings = {\"units\": \"imperial\", \"appid\": api_key}"
   ]
  },
  {
   "cell_type": "code",
   "execution_count": 13,
   "metadata": {},
   "outputs": [
    {
     "ename": "TypeError",
     "evalue": "__init__() got an unexpected keyword argument 'max_value'",
     "output_type": "error",
     "traceback": [
      "\u001b[0;31m---------------------------------------------------------------------------\u001b[0m",
      "\u001b[0;31mTypeError\u001b[0m                                 Traceback (most recent call last)",
      "\u001b[0;32m<ipython-input-13-f4b7fa8e0b90>\u001b[0m in \u001b[0;36m<module>\u001b[0;34m()\u001b[0m\n\u001b[1;32m     11\u001b[0m \u001b[0murl\u001b[0m \u001b[0;34m=\u001b[0m \u001b[0;34m'http://api.openweathermap.org/data/2.5/weather?'\u001b[0m\u001b[0;34m\u001b[0m\u001b[0m\n\u001b[1;32m     12\u001b[0m \u001b[0;34m\u001b[0m\u001b[0m\n\u001b[0;32m---> 13\u001b[0;31m \u001b[0mprogress\u001b[0m \u001b[0;34m=\u001b[0m \u001b[0mProgressBar\u001b[0m\u001b[0;34m(\u001b[0m\u001b[0mmax_value\u001b[0m\u001b[0;34m=\u001b[0m\u001b[0mlen\u001b[0m\u001b[0;34m(\u001b[0m\u001b[0mlat_coord\u001b[0m\u001b[0;34m)\u001b[0m\u001b[0;34m)\u001b[0m\u001b[0;34m.\u001b[0m\u001b[0mstart\u001b[0m\u001b[0;34m(\u001b[0m\u001b[0;34m)\u001b[0m\u001b[0;34m\u001b[0m\u001b[0m\n\u001b[0m\u001b[1;32m     14\u001b[0m \u001b[0;32mfor\u001b[0m \u001b[0mindex\u001b[0m\u001b[0;34m,\u001b[0m \u001b[0mrow\u001b[0m \u001b[0;32min\u001b[0m \u001b[0mweather_df\u001b[0m\u001b[0;34m.\u001b[0m\u001b[0miterrows\u001b[0m\u001b[0;34m(\u001b[0m\u001b[0;34m)\u001b[0m\u001b[0;34m:\u001b[0m\u001b[0;34m\u001b[0m\u001b[0m\n\u001b[1;32m     15\u001b[0m     \u001b[0;32mtry\u001b[0m\u001b[0;34m:\u001b[0m\u001b[0;34m\u001b[0m\u001b[0m\n",
      "\u001b[0;31mTypeError\u001b[0m: __init__() got an unexpected keyword argument 'max_value'"
     ]
    }
   ],
   "source": [
    "weather_df['date'] = ''\n",
    "weather_df['max_temp'] = ''\n",
    "weather_df['humidity'] = ''\n",
    "weather_df['cloudiness'] = ''\n",
    "weather_df['wind_speed'] = ''\n",
    "\n",
    "to_csv1 = []\n",
    "to_csv2 = []\n",
    "\n",
    "count = 1\n",
    "url = 'http://api.openweathermap.org/data/2.5/weather?'\n",
    "\n",
    "progress = ProgressBar(max_value=len(lat_coord)).start()\n",
    "for index, row in weather_df.iterrows():\n",
    "    try:\n",
    "        weather_data = ow.get_current(\"{},{}\".format(row['city_name'],\n",
    "            row['country_code']),**settings)\n",
    "        \n",
    "        weather_df.set_value(index, 'date', weather_data('dt'))\n",
    "        weather_df.set_value(index, 'max_temp', weather_data('main.temp_max'))\n",
    "        weather_df.set_value(index, 'humidity', weather_data('main.humidity'))\n",
    "        weather_df.set_value(index, 'cloudiness', weather_data('clouds.all'))\n",
    "        weather_df.set_value(index, 'wind_speed', weather_data('wind.speed'))\n",
    "        \n",
    "        to_csv1.append(\"Record {} of {} | {}\"\\\n",
    "            .format(count, len(weather_df), row['city_name']))\n",
    "        to_csv2.append(\"{}APPID={}&units={}&q={},{}\"\\\n",
    "            .format(url, api_key, settings['units'], row['city_name'], row['country_code']))\n",
    "        \n",
    "        count += 1\n",
    "        progress.update(index+1)\n",
    "        \n",
    "    except:\n",
    "        weather_df.set_value(index, 'date', np.nan)\n",
    "        weather_df.set_value(index, 'max_temp', np.nan)\n",
    "        weather_df.set_value(index, 'humidity', np.nan)\n",
    "        weather_df.set_value(index, 'cloudiness', np.nan)\n",
    "        weather_df.set_value(index, 'wind_speed', np.nan)\n",
    "        \n",
    "        count += 1\n",
    "        progress.update(index+1)\n",
    "        \n",
    "progress.finish()\n",
    "\n",
    "# write data url's to csv\n",
    "csv_out = open('./data/data_urlPaths_20180213.csv','w')\n",
    "writer = csv.writer(csv_out)\n",
    "for row in zip(to_csv1,to_csv2):\n",
    "    writer.writerow(row)\n",
    "csv_out.close()"
   ]
  },
  {
   "cell_type": "code",
   "execution_count": 14,
   "metadata": {},
   "outputs": [
    {
     "data": {
      "text/html": [
       "<div>\n",
       "<style scoped>\n",
       "    .dataframe tbody tr th:only-of-type {\n",
       "        vertical-align: middle;\n",
       "    }\n",
       "\n",
       "    .dataframe tbody tr th {\n",
       "        vertical-align: top;\n",
       "    }\n",
       "\n",
       "    .dataframe thead th {\n",
       "        text-align: right;\n",
       "    }\n",
       "</style>\n",
       "<table border=\"1\" class=\"dataframe\">\n",
       "  <thead>\n",
       "    <tr style=\"text-align: right;\">\n",
       "      <th></th>\n",
       "      <th>city_name</th>\n",
       "      <th>country_code</th>\n",
       "      <th>latitude</th>\n",
       "      <th>longitude</th>\n",
       "      <th>date</th>\n",
       "      <th>max_temp</th>\n",
       "      <th>humidity</th>\n",
       "      <th>cloudiness</th>\n",
       "      <th>wind_speed</th>\n",
       "    </tr>\n",
       "  </thead>\n",
       "  <tbody>\n",
       "    <tr>\n",
       "      <th>0</th>\n",
       "      <td>arraial do cabo</td>\n",
       "      <td>br</td>\n",
       "      <td>-30.5416</td>\n",
       "      <td>-37.5936</td>\n",
       "      <td></td>\n",
       "      <td></td>\n",
       "      <td></td>\n",
       "      <td></td>\n",
       "      <td></td>\n",
       "    </tr>\n",
       "    <tr>\n",
       "      <th>1</th>\n",
       "      <td>punta arenas</td>\n",
       "      <td>cl</td>\n",
       "      <td>-68.8155</td>\n",
       "      <td>-115.458</td>\n",
       "      <td></td>\n",
       "      <td></td>\n",
       "      <td></td>\n",
       "      <td></td>\n",
       "      <td></td>\n",
       "    </tr>\n",
       "    <tr>\n",
       "      <th>2</th>\n",
       "      <td>albany</td>\n",
       "      <td>au</td>\n",
       "      <td>-54.6763</td>\n",
       "      <td>125.621</td>\n",
       "      <td></td>\n",
       "      <td></td>\n",
       "      <td></td>\n",
       "      <td></td>\n",
       "      <td></td>\n",
       "    </tr>\n",
       "    <tr>\n",
       "      <th>3</th>\n",
       "      <td>verkhnyaya inta</td>\n",
       "      <td>ru</td>\n",
       "      <td>65.6734</td>\n",
       "      <td>61.0079</td>\n",
       "      <td></td>\n",
       "      <td></td>\n",
       "      <td></td>\n",
       "      <td></td>\n",
       "      <td></td>\n",
       "    </tr>\n",
       "    <tr>\n",
       "      <th>4</th>\n",
       "      <td>aras</td>\n",
       "      <td>no</td>\n",
       "      <td>61.2123</td>\n",
       "      <td>2.1535</td>\n",
       "      <td></td>\n",
       "      <td></td>\n",
       "      <td></td>\n",
       "      <td></td>\n",
       "      <td></td>\n",
       "    </tr>\n",
       "  </tbody>\n",
       "</table>\n",
       "</div>"
      ],
      "text/plain": [
       "         city_name country_code latitude longitude date max_temp humidity  \\\n",
       "0  arraial do cabo           br -30.5416  -37.5936                          \n",
       "1     punta arenas           cl -68.8155  -115.458                          \n",
       "2           albany           au -54.6763   125.621                          \n",
       "3  verkhnyaya inta           ru  65.6734   61.0079                          \n",
       "4             aras           no  61.2123    2.1535                          \n",
       "\n",
       "  cloudiness wind_speed  \n",
       "0                        \n",
       "1                        \n",
       "2                        \n",
       "3                        \n",
       "4                        "
      ]
     },
     "execution_count": 14,
     "metadata": {},
     "output_type": "execute_result"
    }
   ],
   "source": [
    "# display ecuator weather dataframe\n",
    "weather_df.head()"
   ]
  },
  {
   "cell_type": "code",
   "execution_count": null,
   "metadata": {},
   "outputs": [],
   "source": []
  }
 ],
 "metadata": {
  "kernelspec": {
   "display_name": "Python 3",
   "language": "python",
   "name": "python3"
  },
  "language_info": {
   "codemirror_mode": {
    "name": "ipython",
    "version": 3
   },
   "file_extension": ".py",
   "mimetype": "text/x-python",
   "name": "python",
   "nbconvert_exporter": "python",
   "pygments_lexer": "ipython3",
   "version": "3.6.5"
  }
 },
 "nbformat": 4,
 "nbformat_minor": 2
}
